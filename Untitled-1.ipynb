{
 "cells": [
  {
   "cell_type": "code",
   "execution_count": 3,
   "metadata": {},
   "outputs": [
    {
     "name": "stdout",
     "output_type": "stream",
     "text": [
      "True\n",
      "True\n"
     ]
    }
   ],
   "source": [
    "def is_sorted_and_rotated(arr):\n",
    "    n = len(arr)\n",
    "    min_index = arr.index(min(arr))\n",
    "    \n",
    "    # Check if the array is sorted in non-decreasing order before and after the pivot\n",
    "    for i in range(1, n):\n",
    "        if arr[(min_index + i) % n] < arr[(min_index + i - 1) % n]:\n",
    "            return False\n",
    "    \n",
    "    return True\n",
    "\n",
    "# Example usage:\n",
    "arr1 = [3, 4, 5, 1, 2]\n",
    "arr2 = [1, 2, 3, 4, 5]\n",
    "print(is_sorted_and_rotated(arr1))  # Output: True\n",
    "print(is_sorted_and_rotated(arr2))  # Output: False\n"
   ]
  },
  {
   "cell_type": "code",
   "execution_count": 5,
   "metadata": {},
   "outputs": [
    {
     "name": "stdout",
     "output_type": "stream",
     "text": [
      "220\n"
     ]
    }
   ],
   "source": [
    "#0/1 Knapsack Problem:\n",
    "\n",
    "def knapSack(W, Wt, Pt, n):\n",
    "    if(n==0 or W == 0 ):\n",
    "        return 0 \n",
    "    if(Wt[n-1]>W):\n",
    "        return knapSack(W,Wt,Pt,n-1)\n",
    "    else:\n",
    "        #now return max between two value \n",
    "        return max(Pt[n-1]+knapSack(W - Wt[n-1],Wt,Pt,n-1),knapSack(W, Wt, Pt, n-1  ))\n",
    "        \n",
    "\n",
    "if __name__ == '__main__':\n",
    "    profit = [60, 100, 120]\n",
    "    weight = [10, 20, 30]\n",
    "    W = 50\n",
    "    n = len(profit)     \n",
    "\n",
    "    print (knapSack(W, weight, profit, n))\n",
    "\n"
   ]
  },
  {
   "cell_type": "code",
   "execution_count": 15,
   "metadata": {},
   "outputs": [
    {
     "name": "stdout",
     "output_type": "stream",
     "text": [
      "4\n"
     ]
    }
   ],
   "source": [
    "#Longest Common subsequence \n",
    "\n",
    "#  Given two strings, S1 and S2, the task is to find the length of the Longest Common Subsequence. If there is no common subsequence, return 0. A subsequence is a string generated from the original string by deleting 0 or more characters and without changing the relative order of the remaining characters. For example , subsequences of “ABC” are “”, “A”, “B”, “C”, “AB”, “AC”, “BC” and “ABC”. In general a string of length n has 2n subsequences.\n",
    "\n",
    "# LCS problem has great applications like diff utility (find the difference between two files) that we use in our day to day software development.\n",
    "\n",
    "\n",
    "def Lcs(S1,S2,m,n):\n",
    "    if(m == 0 or n==0):\n",
    "        return 0 \n",
    "    elif(S1[m-1]==S2[n-1]):\n",
    "        return 1+Lcs(S1,S2,m-1,n-1)\n",
    "    else:\n",
    "        return max(Lcs(S1,S2,m-1,n),Lcs(S1,S2,m,n-1)) #here im trying to take every possible value in consedration to check between two string and get max of longest common subsequence\n",
    "\n",
    "\n",
    "if __name__ == '__main__':\n",
    "    S1 = \"AGGTAB\"\n",
    "    S2 = \"GXTXAYB\"\n",
    "    m = len(S1)\n",
    "    n = len(S2)\n",
    "    print(Lcs(S1,S2,m,n))\n"
   ]
  },
  {
   "cell_type": "code",
   "execution_count": 296,
   "metadata": {},
   "outputs": [
    {
     "name": "stdout",
     "output_type": "stream",
     "text": [
      "Length of lis is 2\n"
     ]
    }
   ],
   "source": [
    "#Longest increasing Subsequences \n",
    "# def LIS(arr,i):\n",
    "#     if (i==0):\n",
    "#         return 1\n",
    "#     mx = 1\n",
    "#     for prev in range(i):\n",
    "#         if arr[prev] < arr[i]:\n",
    "#             mx = max(mx,LIS(arr,prev)+1)\n",
    "#            # print(\"max\",mx)\n",
    "#     return mx\n",
    "     \n",
    "\n",
    "# def listArr(arr):\n",
    "#      n = len(arr)\n",
    "#      res = 1\n",
    "#      for i in range(1,n):\n",
    "#         res = max(res,LIS(arr,i))\n",
    "#       #  print(res)\n",
    "#      return res\n",
    "\n",
    "##\n",
    "\n",
    "def LIS(arr,i):\n",
    "    if i ==0 :\n",
    "        return 1\n",
    "    mx = 1 \n",
    "    for prev in range(i):\n",
    "        if arr[prev] < arr[i]:\n",
    "            mx = max(mx, LIS(arr,prev)+1)\n",
    "    return mx\n",
    "\n",
    "\n",
    "def sendArr(arr):\n",
    "    n= len(arr)\n",
    "    res = 1 \n",
    "    for i in range(1,n):\n",
    "        res=max(res,LIS(arr,i))\n",
    "    return res\n",
    "\n",
    "arr = [10, 22, 9, 33, 21, 50, 41, 60]\n",
    "print(\"Length of lis is\", sendArr(arr))"
   ]
  },
  {
   "cell_type": "code",
   "execution_count": 30,
   "metadata": {},
   "outputs": [
    {
     "name": "stdout",
     "output_type": "stream",
     "text": [
      "0 1 1 2 3 5 8 13 21 34 55\n"
     ]
    }
   ],
   "source": [
    "#fibonacci series \n",
    "def fib(N):\n",
    "\n",
    "    if N == 0:\n",
    "        return 0\n",
    "    elif (N==1 or N==2):\n",
    "        return 1\n",
    "    else:\n",
    "        return (fib(N-1)+fib(N-2))\n",
    "\n",
    "def printFibo(n):\n",
    "    for i in range(n):\n",
    "        print(fib(i),end=' ')\n",
    "\n",
    "\n",
    "printFibo(10)\n",
    "print (fib(10))\n",
    "\n"
   ]
  },
  {
   "cell_type": "code",
   "execution_count": 52,
   "metadata": {},
   "outputs": [
    {
     "name": "stdout",
     "output_type": "stream",
     "text": [
      "11\n"
     ]
    }
   ],
   "source": [
    "#Max of subareas sum (we are going to learn about Kadans's algorithm)\n",
    "# def findMaxSubArray(arr):\n",
    "#     ans = arr[0]\n",
    "#     for i in range(len(arr)):\n",
    "#         currSum = 0\n",
    "#         for j in range(i,len(arr)):\n",
    "#             currSum = currSum + arr[j] \n",
    "#             ans = max(ans,currSum)\n",
    "#     return ans\n",
    "\n",
    "# arr =[2, 3, -8, 7, -1, 2, 3]\n",
    "# print(findMaxSubArray(arr))\n",
    "\n",
    "\n",
    "\n",
    "##### above one is the simple way to find Max subarray sequence \n",
    "\n",
    "\n",
    "def kadansAlgo(arr):\n",
    "    maxReturn  = 0 \n",
    "    res = 0 \n",
    "    for i in range(len(arr)):\n",
    "        maxReturn = max((maxReturn+arr[i]),arr[i])\n",
    "        res = max(res,maxReturn)\n",
    "    return res\n",
    "\n",
    "arr =[2, 3, -8, 7, -1, 2, 3]\n",
    "print(kadansAlgo(arr))\n"
   ]
  },
  {
   "cell_type": "code",
   "execution_count": 59,
   "metadata": {},
   "outputs": [
    {
     "name": "stdout",
     "output_type": "stream",
     "text": [
      "300\n"
     ]
    }
   ],
   "source": [
    "# unbounded Knapsack \n",
    "def uks_rec(W, wt, val, idx):\n",
    "  \n",
    "   \n",
    "    if idx == 0:\n",
    "        return (W // wt[0]) * val[0]\n",
    "    not_take = uks_rec(W, wt, val, idx - 1) \n",
    "    take = float('-inf')\n",
    "    if wt[idx] <= W:\n",
    "        take = val[idx] + uks_rec(W - wt[idx], wt, val, idx)\n",
    "    return max(take, not_take)\n",
    "\n",
    "\n",
    "def uks(W, wt, val):\n",
    "    n = len(val)\n",
    "    return uks_rec(W, wt, val, n - 1)\n",
    "\n",
    "# Driver code\n",
    "W = 100\n",
    "val = [10, 30, 20]\n",
    "wt = [5, 10, 15]\n",
    "\n",
    "print(uks(W, wt, val))"
   ]
  },
  {
   "cell_type": "code",
   "execution_count": 163,
   "metadata": {},
   "outputs": [
    {
     "name": "stdout",
     "output_type": "stream",
     "text": [
      "2\n"
     ]
    }
   ],
   "source": [
    "#find longest paranthese\n",
    "\n",
    "# def maxLength(s):\n",
    "#     longestPanrantesis = []\n",
    "#     for i in range(len(s)):  \n",
    "#         if s[i] == '(':\n",
    "#             longestPanrantesis.append(s[i])\n",
    "#         elif(s[i-1]=='(' and s[i]==')'):\n",
    "#             longestPanrantesis.append(s[i])\n",
    "        \n",
    "#     return len(longestPanrantesis)\n",
    "        \n",
    "#     return \n",
    "# if __name__ == \"__main__\":\n",
    "#     s = \"(\"\n",
    "#     print(maxLength(s))\n",
    "\n",
    "def maxLength(s):\n",
    "    maxLen= 0 \n",
    "    arr=[]\n",
    "    arr.append(-1) #to handel any edge case \n",
    "    for i in range(len(s)):\n",
    "        if s[i]=='(':\n",
    "            arr.append(i)\n",
    "        else:\n",
    "            arr.pop()\n",
    "            if not arr:\n",
    "                arr.append(i)\n",
    "            else:\n",
    "                maxLen = max(maxLen,i-arr[-1])\n",
    "    return maxLen\n",
    "\n",
    "if __name__ == \"__main__\":\n",
    "    s = \")(()\"\n",
    "    print(maxLength(s))"
   ]
  },
  {
   "cell_type": "code",
   "execution_count": 95,
   "metadata": {},
   "outputs": [
    {
     "name": "stdout",
     "output_type": "stream",
     "text": [
      "{10, 20, 30}\n"
     ]
    }
   ],
   "source": [
    "arr = [10, 20, 20, 10, 30, 10]\n",
    "a = set(arr)\n",
    "\n",
    "print()"
   ]
  },
  {
   "cell_type": "code",
   "execution_count": 116,
   "metadata": {},
   "outputs": [
    {
     "name": "stdout",
     "output_type": "stream",
     "text": [
      "1->2->3->"
     ]
    }
   ],
   "source": [
    "#linked list\n",
    "\n",
    "#creating linked list\n",
    "class Node:\n",
    "    def __init__(self,data= None):\n",
    "        self.data = data #point data to data\n",
    "        self.next = None #pointing next value to none for now \n",
    "#now defining Linked list class \n",
    "class LinkedList:\n",
    "    def __init__(self):\n",
    "        self.head = None\n",
    "    \n",
    "    def append(self,data):\n",
    "        newNode = Node(data)\n",
    "        if self.head == None:\n",
    "            self.head = newNode\n",
    "            return\n",
    "        last = self.head\n",
    "        while last.next:\n",
    "            last = last.next\n",
    "        last.next = newNode\n",
    "    def display(self):\n",
    "        current  = self.head\n",
    "        while current:\n",
    "            print(current.data,end='->')\n",
    "            current = current.next\n",
    "\n",
    "\n",
    "ll = LinkedList()\n",
    "\n",
    "ll.append(1)\n",
    "ll.append(2)\n",
    "ll.append(3)\n",
    "\n",
    "ll.display()\n",
    "\n"
   ]
  },
  {
   "cell_type": "code",
   "execution_count": 135,
   "metadata": {},
   "outputs": [
    {
     "name": "stdout",
     "output_type": "stream",
     "text": [
      "0\n",
      "0\n"
     ]
    }
   ],
   "source": [
    "a= 2\n",
    "if a:a = \"try\"\n",
    "val = \"try2\" if a else 0\n",
    "print(a)\n",
    "print (val)\n"
   ]
  },
  {
   "cell_type": "code",
   "execution_count": 115,
   "metadata": {},
   "outputs": [
    {
     "name": "stdout",
     "output_type": "stream",
     "text": [
      "akshay\n",
      "this how we do \n"
     ]
    }
   ],
   "source": [
    "class constructor:\n",
    "    def __init__(self,data=None):\n",
    "        self.name= data #this constructor can use name a constructor parameter use to access data in different class or method \n",
    "class newClass:\n",
    "    def test(self):\n",
    "        self.vale = \"this how we do \"\n",
    "        return \n",
    "\n",
    "createObj= constructor(\"akshay\")\n",
    "print (createObj.name)\n",
    "createObje2 = newClass()\n",
    "createObje2.test()\n",
    "print(createObje2.vale)\n",
    "\n"
   ]
  },
  {
   "cell_type": "code",
   "execution_count": 152,
   "metadata": {},
   "outputs": [
    {
     "name": "stdout",
     "output_type": "stream",
     "text": [
      "30->10->None\n"
     ]
    }
   ],
   "source": [
    "#adding node at the starting of the linked list \n",
    "\n",
    "class Node:\n",
    "    def __init__(self, val=0, next=None):\n",
    "        self.val = val\n",
    "        self.next = next\n",
    "\n",
    "class LinkdedList :\n",
    "    def __init__(self):\n",
    "        self.head= None\n",
    "    def InsertHead(self,val):\n",
    "        newNode = Node(val) #assigne new obj in the inset Node \n",
    "        newNode.next = self.head\n",
    "        self.head = newNode\n",
    "    def printNode(self):\n",
    "        current  = self.head\n",
    "        while current:\n",
    "            print(current.val,end='->')\n",
    "            current = current.next\n",
    "        print(None)\n",
    "ll = LinkdedList()\n",
    "\n",
    "ll.InsertHead(10)\n",
    "ll.InsertHead(30)\n",
    "ll.printNode()\n",
    "        \n",
    "    \n",
    "\n"
   ]
  },
  {
   "cell_type": "code",
   "execution_count": 166,
   "metadata": {},
   "outputs": [
    {
     "name": "stdout",
     "output_type": "stream",
     "text": [
      "current 10\n",
      "current 30\n",
      "10->30->40->"
     ]
    }
   ],
   "source": [
    "#adding at the end of the linked list\n",
    "class AddingAtTheEnd:\n",
    "    def __init__(self,data):\n",
    "        self.data = data\n",
    "        self.next = None\n",
    "\n",
    "class AddingAtTheTail:\n",
    "    def __init__(self):\n",
    "        self.head = None\n",
    "    def AppendingTheNode(self,val):\n",
    "        newNode = AddingAtTheEnd(val)\n",
    "        if not self.head:\n",
    "            self.head = newNode\n",
    "        else:\n",
    "            current = self.head \n",
    "            while current.next:\n",
    "              \n",
    "                current = current.next\n",
    "            current.next = newNode\n",
    "            print(\"current\",current.data)\n",
    "            \n",
    "    def display(self):\n",
    "        current = self.head\n",
    "        while current:\n",
    "            print(current.data,end='->')\n",
    "            current = current.next\n",
    "\n",
    "linkedList = AddingAtTheTail()\n",
    "linkedList.AppendingTheNode(10)\n",
    "linkedList.AppendingTheNode(30)\n",
    "linkedList.AppendingTheNode(40)\n",
    "linkedList.display()\n",
    "\n",
    "\n",
    "\n",
    "        \n"
   ]
  },
  {
   "cell_type": "code",
   "execution_count": 8,
   "metadata": {},
   "outputs": [
    {
     "name": "stdout",
     "output_type": "stream",
     "text": [
      "prev 10\n",
      "current value None\n",
      "prev 10\n",
      "current value <__main__.ListNode object at 0x11609a050>\n",
      "10 -> 40 -> 30 -> None\n"
     ]
    }
   ],
   "source": [
    "class ListNode:\n",
    "    def __init__(self, val=0, next=None):\n",
    "        self.val = val\n",
    "        self.next = next\n",
    "\n",
    "class LinkedList:\n",
    "    def __init__(self):\n",
    "        self.head = None\n",
    "\n",
    "    # Insert a new node at a specific position (1-based index)\n",
    "    def insert_at_position(self, val, pos):\n",
    "        new_node = ListNode(val)\n",
    "        if pos == 1:  # If inserting at the head\n",
    "            new_node.next = self.head\n",
    "            self.head = new_node\n",
    "            return\n",
    "        \n",
    "        current = self.head\n",
    "        prev = None\n",
    "        current_pos = 1\n",
    "\n",
    "        # Traverse to the position\n",
    "        while current and current_pos < pos:\n",
    "            prev = current\n",
    "            print('prev',prev.val)\n",
    "            current = current.next\n",
    "            print(\"current value\",current)\n",
    "            current_pos += 1\n",
    "\n",
    "        # Insert the new node between prev and current\n",
    "        prev.next = new_node\n",
    "        new_node.next = current\n",
    "    def print_list(self):\n",
    "        current = self.head\n",
    "        while current:\n",
    "            print(current.val, end=\" -> \")\n",
    "            current = current.next\n",
    "        print(\"None\")\n",
    "        \n",
    "linkedList = LinkedList()\n",
    "linkedList.insert_at_position(10,1)\n",
    "linkedList.insert_at_position(30,2)\n",
    "linkedList.insert_at_position(40,2)\n",
    "linkedList.print_list()\n",
    "\n"
   ]
  },
  {
   "cell_type": "code",
   "execution_count": 21,
   "metadata": {},
   "outputs": [
    {
     "name": "stdout",
     "output_type": "stream",
     "text": [
      "50->700->30->10->60->20->3->None\n",
      "700->30->10->60->20->3->None\n",
      "700->30->10->60->20->None\n",
      "700->30->60->20->None\n"
     ]
    }
   ],
   "source": [
    "#deleting node in Linked list\n",
    "\n",
    "class LinkdedList:\n",
    "    def __init__(self,data):\n",
    "        self.data = data\n",
    "        self.next = None\n",
    "\n",
    "class DeletingFromhead:\n",
    "    def __init__(self):\n",
    "        self.head = None\n",
    "    def AddingAtHead(self,data):\n",
    "        newNode = LinkdedList(data)\n",
    "        newNode.next = self.head \n",
    "        self.head = newNode\n",
    "    def AddingAtTheTail(self,data):\n",
    "        newNode = LinkdedList(data)\n",
    "        if self.head == None:\n",
    "            self.head = newNode\n",
    "        else:\n",
    "            current = self.head \n",
    "            while current.next:\n",
    "                current = current.next\n",
    "            current.next = newNode\n",
    "    def AddingNodeAtGivenPos(self,data,pos):\n",
    "        newNode = LinkdedList(data)\n",
    "        if(pos ==1):\n",
    "            newNode.next = self.head\n",
    "            self.head = newNode\n",
    "            return\n",
    "            \n",
    "        current = self.head\n",
    "        prev = None \n",
    "        current_pos = 1\n",
    "        #traversing to that point in LinkedList\n",
    "        while current and current_pos < pos:\n",
    "            prev = current\n",
    "            current = current.next\n",
    "            current_pos +=1\n",
    "\n",
    "        prev.next = newNode\n",
    "        newNode.next = current  \n",
    "    def deleteFromHead(self):\n",
    "        if self.head:\n",
    "            self.head = self.head.next\n",
    "    def deleFromTail(self):\n",
    "        if not self.head:\n",
    "            return \n",
    "        if not self.head.next:\n",
    "            self.head = None\n",
    "            return \n",
    "        \n",
    "        current = self.head\n",
    "        while current.next.next:\n",
    "            current = current.next\n",
    "        current.next = None\n",
    "    def deleteFromSpecificPosition(self,pos):\n",
    "        if not self.head:\n",
    "            return \n",
    "        elif pos == 1:\n",
    "            self.head = self.head.next\n",
    "            return \n",
    "        prev= None \n",
    "        current = self.head\n",
    "        current_pos =1\n",
    "        while current and current_pos < pos:\n",
    "            prev= current\n",
    "            current = current.next\n",
    "            current_pos +=1\n",
    "        if current:\n",
    "            prev.next = current.next\n",
    "\n",
    "\n",
    "    def display(self):\n",
    "        current = self.head\n",
    "        while current:\n",
    "            print(current.data,end='->')\n",
    "            current = current.next\n",
    "        print(\"None\")\n",
    "LL = DeletingFromhead()\n",
    "LL.AddingAtHead(10)\n",
    "LL.AddingAtHead(30)\n",
    "LL.AddingAtHead(50)\n",
    "LL.AddingAtTheTail(60)\n",
    "LL.AddingAtTheTail(20)\n",
    "LL.AddingAtTheTail(3)\n",
    "LL.AddingNodeAtGivenPos(700,2) #add according to the position \n",
    "LL.display()\n",
    "LL.deleteFromHead()\n",
    "LL.display()     \n",
    "LL.deleFromTail()             \n",
    "LL.display()     \n",
    "LL.deleteFromSpecificPosition(3) #delete according to the position \n",
    "LL.display()     "
   ]
  },
  {
   "cell_type": "code",
   "execution_count": 32,
   "metadata": {},
   "outputs": [
    {
     "name": "stdout",
     "output_type": "stream",
     "text": [
      "0 -> 1 -> 1 -> 2 -> 3 -> 4 -> 4 -> "
     ]
    }
   ],
   "source": [
    "# Definition for singly-linked list.\n",
    "class ListNode:\n",
    "    def __init__(self, val=0, next=None):\n",
    "        self.val = val\n",
    "        self.next = next\n",
    "\n",
    "def mergeTwoLists(list1: ListNode, list2: ListNode) -> ListNode:\n",
    "    dummy = ListNode()\n",
    "    current = dummy\n",
    "    while list1 and list2:\n",
    "        if list1.val < list2.val:\n",
    "            current.next = list1  # Link to list1's node\n",
    "            list1 = list1.next    # Move to the next node in list1\n",
    "        else:\n",
    "            current.next = list2  # Link to list2's node\n",
    "            list2 = list2.next    # Move to the next node in list2\n",
    "        current = current.next    # Move to the next node in the merged list\n",
    "    if list1:\n",
    "        current.next = list1\n",
    "    elif list2:\n",
    "        current.next = list2\n",
    "    return dummy\n",
    "\n",
    "\n",
    "        \n",
    "# Example Usage:\n",
    "\n",
    "# Create first linked list: 1 -> 2 -> 4\n",
    "list1 = ListNode(1, ListNode(2, ListNode(4)))\n",
    "\n",
    "# Create second linked list: 1 -> 3 -> 4\n",
    "list2 = ListNode(1, ListNode(3, ListNode(4)))\n",
    "\n",
    "# Merge the lists\n",
    "merged_list = mergeTwoLists(list1, list2)\n",
    "\n",
    "# Print the merged linked list\n",
    "while merged_list:\n",
    "    print(merged_list.val, end=\" -> \")\n",
    "    merged_list = merged_list.next\n",
    "# Output: 1 -> 1 -> 2 -> 3 -> 4 -> 4 ->"
   ]
  },
  {
   "cell_type": "code",
   "execution_count": 49,
   "metadata": {},
   "outputs": [
    {
     "name": "stdout",
     "output_type": "stream",
     "text": [
      "[2, 3]\n"
     ]
    }
   ],
   "source": [
    "#find all prime Number using Eratosthenes\n",
    "def Eratosthenes(N):\n",
    "    prime = [True for i in range(N+1)]\n",
    "    p = 2\n",
    "    while(p*p <= N): # this becuase p x p is the largest multiple \n",
    "        if prime[p] == True:\n",
    "            for i in range(p*p,N+1,p):\n",
    "                prime[i] = False\n",
    "        p +=1\n",
    "    primeNumber  =[p for p in range(2,N+1) if prime[p]]\n",
    "    return primeNumber\n",
    "\n",
    "print (Eratosthenes(3))\n",
    "    \n",
    "    \n"
   ]
  },
  {
   "cell_type": "code",
   "execution_count": 69,
   "metadata": {},
   "outputs": [
    {
     "name": "stdout",
     "output_type": "stream",
     "text": [
      "inf\n"
     ]
    }
   ],
   "source": [
    "#solving minimum coin change problem \n",
    "def MinCoin(arr,sum,n):\n",
    "    if (sum == 0):\n",
    "        return 0 \n",
    "    res = float('inf')\n",
    "    for i in range(n):\n",
    "        if arr[i] <= sum :\n",
    "            sub_res = MinCoin(arr,sum-arr[i],n)\n",
    "\n",
    "            if (sub_res != float('inf') and sub_res+1 <res):\n",
    "                res = sub_res + 1\n",
    "    \n",
    "    return res\n",
    "\n",
    "arr = [4, 6, 2]\n",
    "sum  = 5\n",
    "n= len(arr)\n",
    "print(MinCoin(arr, sum,n))"
   ]
  },
  {
   "cell_type": "code",
   "execution_count": 75,
   "metadata": {},
   "outputs": [
    {
     "name": "stdout",
     "output_type": "stream",
     "text": [
      "aaabcddeghstw\n"
     ]
    }
   ],
   "source": [
    "#print given character in sorted order \n",
    "def sortedString(st):\n",
    "    sort = ''.join(sorted(st))\n",
    "    print()\n",
    "    return sort\n",
    "\n",
    "st = 'acsgtdwdabaeh'\n",
    "print(sortedString(st))"
   ]
  },
  {
   "cell_type": "code",
   "execution_count": 88,
   "metadata": {},
   "outputs": [
    {
     "name": "stdout",
     "output_type": "stream",
     "text": [
      "Maximum subarray sum is: 6\n"
     ]
    }
   ],
   "source": [
    "\n",
    "def binary_search(arr, target):\n",
    "    low, high = 0, len(arr) - 1\n",
    "    \n",
    "    while low <= high:\n",
    "        mid = (low + high) // 2\n",
    "        if arr[mid] == target:\n",
    "            return mid\n",
    "        elif arr[mid] < target:\n",
    "            low = mid + 1\n",
    "        else:\n",
    "            high = mid - 1\n",
    "    \n",
    "    return -1  \n",
    "a =[3, 9, 10, 27, 38, 43, 82]\n",
    "val= 43    \n",
    "print(binary_search(a,val))"
   ]
  },
  {
   "cell_type": "code",
   "execution_count": null,
   "metadata": {},
   "outputs": [],
   "source": []
  },
  {
   "cell_type": "code",
   "execution_count": null,
   "metadata": {},
   "outputs": [],
   "source": [
    "def max_subarray_sum(arr):\n",
    "    max_so_far = float('-inf')  \n",
    "    current_max = 0  \n",
    "\n",
    "    for num in arr:\n",
    "        current_max = max(num, current_max + num)\n",
    "        max_so_far = max(max_so_far, current_max)\n",
    "    \n",
    "    return max_so_far\n",
    "\n",
    "# Example usage\n",
    "arr = [-2, 1, -3, 4, -1, 2, 1, -5, 4]\n",
    "result = max_subarray_sum(arr)\n",
    "print(f\"Maximum subarray sum is: {result}\")"
   ]
  },
  {
   "cell_type": "code",
   "execution_count": 90,
   "metadata": {},
   "outputs": [
    {
     "name": "stdout",
     "output_type": "stream",
     "text": [
      "[2, 3]\n"
     ]
    }
   ],
   "source": [
    "arr = [1,2,3,3,5]\n",
    "k = 3\n",
    "ans = []\n",
    "for i in range(len(arr)):\n",
    "    if k == arr[i]:\n",
    "        ans.append(i)\n",
    "print(ans)"
   ]
  },
  {
   "cell_type": "code",
   "execution_count": 101,
   "metadata": {},
   "outputs": [
    {
     "name": "stdout",
     "output_type": "stream",
     "text": [
      "Original Linked List:\n",
      "1 -> 2 -> 3 -> 4 -> None\n",
      "nextNode 2\n",
      "currnext None\n",
      "prev <__main__.ListNode object at 0x116396e50>\n",
      "nextNode 3\n",
      "currnext <__main__.ListNode object at 0x116396e50>\n",
      "prev <__main__.ListNode object at 0x1163a2e50>\n",
      "nextNode 4\n",
      "currnext <__main__.ListNode object at 0x1163a2e50>\n",
      "prev <__main__.ListNode object at 0x11638e010>\n"
     ]
    },
    {
     "ename": "AttributeError",
     "evalue": "'NoneType' object has no attribute 'value'",
     "output_type": "error",
     "traceback": [
      "\u001b[0;31m---------------------------------------------------------------------------\u001b[0m",
      "\u001b[0;31mAttributeError\u001b[0m                            Traceback (most recent call last)",
      "Cell \u001b[0;32mIn[101], line 44\u001b[0m\n\u001b[1;32m     41\u001b[0m print_list(head)\n\u001b[1;32m     43\u001b[0m \u001b[39m# Reverse the linked list\u001b[39;00m\n\u001b[0;32m---> 44\u001b[0m reversed_head \u001b[39m=\u001b[39m reverse_linked_list(head)\n\u001b[1;32m     46\u001b[0m \u001b[39mprint\u001b[39m(\u001b[39m\"\u001b[39m\u001b[39mReversed Linked List:\u001b[39m\u001b[39m\"\u001b[39m)\n\u001b[1;32m     47\u001b[0m print_list(reversed_head)\n",
      "Cell \u001b[0;32mIn[101], line 15\u001b[0m, in \u001b[0;36mreverse_linked_list\u001b[0;34m(head)\u001b[0m\n\u001b[1;32m     13\u001b[0m \u001b[39mwhile\u001b[39;00m current \u001b[39mis\u001b[39;00m \u001b[39mnot\u001b[39;00m \u001b[39mNone\u001b[39;00m:\n\u001b[1;32m     14\u001b[0m     next_node \u001b[39m=\u001b[39m current\u001b[39m.\u001b[39mnext\n\u001b[0;32m---> 15\u001b[0m     \u001b[39mprint\u001b[39m(\u001b[39m\"\u001b[39m\u001b[39mnextNode\u001b[39m\u001b[39m\"\u001b[39m,next_node\u001b[39m.\u001b[39;49mvalue)  \u001b[39m# Temporarily store the next node\u001b[39;00m\n\u001b[1;32m     16\u001b[0m     current\u001b[39m.\u001b[39mnext \u001b[39m=\u001b[39m previous   \u001b[39m# Reverse the current node's pointer\u001b[39;00m\n\u001b[1;32m     17\u001b[0m     \u001b[39mprint\u001b[39m(\u001b[39m\"\u001b[39m\u001b[39mcurrnext\u001b[39m\u001b[39m\"\u001b[39m,current\u001b[39m.\u001b[39mnext)\n",
      "\u001b[0;31mAttributeError\u001b[0m: 'NoneType' object has no attribute 'value'"
     ]
    }
   ],
   "source": [
    "# Define a class for the linked list node\n",
    "class ListNode:\n",
    "    def __init__(self, value=0, next=None):\n",
    "        self.value = value\n",
    "        self.next = next\n",
    "\n",
    "# Function to reverse the linked list\n",
    "def reverse_linked_list(head):\n",
    "    previous = None\n",
    "    current = head\n",
    "\n",
    "    # Iterate through the list\n",
    "    while current is not None:\n",
    "        next_node = current.next\n",
    "        print(\"nextNode\",next_node)  # Temporarily store the next node\n",
    "        current.next = previous   # Reverse the current node's pointer\n",
    "        print(\"currnext\",current.next)\n",
    "        previous = current        # Move the previous pointer to the current node\n",
    "        print(\"prev\",previous)\n",
    "        current = next_node       # Move to the next node\n",
    "    \n",
    "    # At the end, previous will point to the new head\n",
    "    return previous\n",
    "\n",
    "# Helper function to print the linked list\n",
    "def print_list(head):\n",
    "    current = head\n",
    "    while current:\n",
    "        print(current.value, end=\" -> \")\n",
    "        current = current.next\n",
    "    print(\"None\")\n",
    "\n",
    "# Example usage:\n",
    "# Creating a linked list: 1 -> 2 -> 3 -> 4 -> None\n",
    "head = ListNode(1)\n",
    "head.next = ListNode(2)\n",
    "head.next.next = ListNode(3)\n",
    "head.next.next.next = ListNode(4)\n",
    "\n",
    "print(\"Original Linked List:\")\n",
    "print_list(head)\n",
    "\n",
    "# Reverse the linked list\n",
    "reversed_head = reverse_linked_list(head)\n",
    "\n",
    "print(\"Reversed Linked List:\")\n",
    "print_list(reversed_head)"
   ]
  },
  {
   "cell_type": "code",
   "execution_count": 105,
   "metadata": {},
   "outputs": [
    {
     "name": "stdout",
     "output_type": "stream",
     "text": [
      "220\n"
     ]
    }
   ],
   "source": [
    "#revision KnapSack 0/1\n",
    "def knapSack(W, Wt, Pt, n):\n",
    "   if (n==0 or W == 0):\n",
    "      return 0\n",
    "   elif(Wt[n-1] > W):\n",
    "      return (W,Wt,Pt,n-1)\n",
    "   else:\n",
    "      return (Pt[n-1]+knapSack(W - Wt[n-1],Wt,Pt,n-1))\n",
    "    \n",
    "\n",
    "if __name__ == '__main__':\n",
    "    profit = [60, 100, 120]\n",
    "    weight = [10, 20, 30]\n",
    "    W = 50\n",
    "    n = len(profit)     \n",
    "\n",
    "    print (knapSack(W, weight, profit, n))\n",
    "\n",
    "#output is 220 because repetition is not allowed \n",
    "\n",
    "        \n"
   ]
  },
  {
   "cell_type": "code",
   "execution_count": 107,
   "metadata": {},
   "outputs": [
    {
     "name": "stdout",
     "output_type": "stream",
     "text": [
      "300\n"
     ]
    }
   ],
   "source": [
    "#unBounded KnapSack\n",
    "def uks_rec(W, wt, val, idx):\n",
    "  if (idx == 0):\n",
    "    return (W//wt[0]*val[0])\n",
    "  notTake = uks_rec(W,wt,val,idx-1)\n",
    "  take = float('-inf')\n",
    "\n",
    "  if(wt[idx-1] <= W):\n",
    "    take = val[idx] + uks_rec(W-wt[idx],wt,val,idx)\n",
    "  return max(take,notTake)\n",
    "\n",
    "def uks(W,wt,val,n):\n",
    "    return uks_rec(W,wt,val,n-1)  \n",
    "\n",
    "\n",
    "   \n",
    "# Driver code\n",
    "W = 100\n",
    "val = [10, 30, 20]\n",
    "wt = [5, 10, 15]\n",
    "\n",
    "print(uks(W, wt, val,len(wt)-1))\n"
   ]
  },
  {
   "cell_type": "code",
   "execution_count": 118,
   "metadata": {},
   "outputs": [
    {
     "name": "stdout",
     "output_type": "stream",
     "text": [
      "4\n"
     ]
    }
   ],
   "source": [
    "#revision of Longest common subsequence \n",
    "# output for the given problem is 4 as GTAB is present in both of the strings\n",
    "\n",
    "\n",
    "def Lcs(S1,S2,m,n):\n",
    "    if (m==0 or n == 0):\n",
    "        return 0\n",
    "    elif(S1[m-1] == S2[n-1]):\n",
    "        return 1 + Lcs(S1,S2,m-1,n-1)\n",
    "    else:\n",
    "        return max(Lcs(S1,S2,m-1,n),Lcs(S1,S2,m,n-1))\n",
    "    \n",
    "   \n",
    "if __name__ == '__main__':\n",
    "    S1 = \"AGGTAB\"\n",
    "    S2 = \"GXTXAYB\"\n",
    "    m = len(S1)\n",
    "    n = len(S2)\n",
    "    print(Lcs(S1,S2,m,n))"
   ]
  },
  {
   "cell_type": "code",
   "execution_count": 124,
   "metadata": {},
   "outputs": [
    {
     "name": "stdout",
     "output_type": "stream",
     "text": [
      "Length of lis is 5\n"
     ]
    }
   ],
   "source": [
    "# Revision of Longest Increasing subsequence \n",
    "# the output of this question is 5 because values in the given subsequence 10,22,33,50,60\n",
    "\n",
    "def LIS(arr,i):\n",
    "    if i == 0:\n",
    "        return 1\n",
    "    mx = 1\n",
    "    for prev in range(i):\n",
    "        if arr[prev] < arr[i]:\n",
    "            mx = max(mx,LIS(arr,prev)+1)\n",
    "    return mx\n",
    "\n",
    "def sendArr(arr):\n",
    "    n= len(arr)\n",
    "    res = 0\n",
    "    for i in range(1,n):\n",
    "        res = max(res,LIS(arr,i))\n",
    "    return res\n",
    "\n",
    "\n",
    "arr = [10, 22, 9, 33, 21, 50, 41, 60]\n",
    "print(\"Length of lis is\", sendArr(arr))"
   ]
  },
  {
   "cell_type": "code",
   "execution_count": 129,
   "metadata": {},
   "outputs": [
    {
     "name": "stdout",
     "output_type": "stream",
     "text": [
      "5\n"
     ]
    }
   ],
   "source": [
    "#Kadan algorithm to find sum of larget sub array \n",
    "\n",
    "def kadan(arr,n):\n",
    "    maxValue = 0\n",
    "    res =0\n",
    "    for i in range(n):\n",
    "        maxValue = max(arr[i],maxValue + arr[i]) \n",
    "        res = max(res,maxValue)\n",
    "    return res\n",
    "\n",
    "\n",
    "\n",
    "arr = [-2, 1, -3, 4, -1, 2, 1, -5, 4]\n",
    "print(kadan(arr,len(arr)))"
   ]
  },
  {
   "cell_type": "code",
   "execution_count": 137,
   "metadata": {},
   "outputs": [
    {
     "name": "stdout",
     "output_type": "stream",
     "text": [
      "['e', 'k', 'p', 'w', 'w', 'w']\n",
      "4\n"
     ]
    }
   ],
   "source": [
    "def lengthOfLongestSubstring(s) -> int:\n",
    "        s=sorted(s)\n",
    "        print(s)\n",
    "        if not s:\n",
    "            return 0\n",
    "    \n",
    "        k = 1  \n",
    "        for i in range(1, len(s)):\n",
    "            if s[i] != s[i - 1]:\n",
    "                s[k] = s[i]\n",
    "                k += 1\n",
    "        \n",
    "        return k\n",
    "print(lengthOfLongestSubstring(\"pwwkew\"))"
   ]
  },
  {
   "cell_type": "code",
   "execution_count": 145,
   "metadata": {},
   "outputs": [
    {
     "name": "stdout",
     "output_type": "stream",
     "text": [
      "3\n"
     ]
    }
   ],
   "source": [
    "def findLongestSubStringWithoutRepeation(s):\n",
    "    charSet = set()\n",
    "    start = 0 \n",
    "    max_Len = 0\n",
    "    for end in range(len(s)):\n",
    "        while s[end] in charSet:\n",
    "            charSet.remove(s[start])\n",
    "            start +=1\n",
    "        charSet.add(s[end])\n",
    "        max_Len = max(max_Len,end-start+1)\n",
    "    return max_Len\n",
    "\n",
    "print (findLongestSubStringWithoutRepeation('abcaabb'))"
   ]
  },
  {
   "cell_type": "code",
   "execution_count": 158,
   "metadata": {},
   "outputs": [
    {
     "name": "stdout",
     "output_type": "stream",
     "text": [
      "[[False, False, False], [False, False, False], [False, False, False]]\n"
     ]
    }
   ],
   "source": [
    "A = true"
   ]
  },
  {
   "cell_type": "code",
   "execution_count": 176,
   "metadata": {},
   "outputs": [
    {
     "name": "stdout",
     "output_type": "stream",
     "text": [
      "topelement (\n",
      "True\n"
     ]
    }
   ],
   "source": [
    "\n",
    " \n",
    "def isValid(s):\n",
    "    stack = []\n",
    "    brackets={')':'(','}':'{',']':'['}\n",
    "\n",
    "    for char in s:\n",
    "        if char in brackets:\n",
    "            topElemet = stack.pop() if stack else '#'\n",
    "            print('topelement',topElemet)\n",
    "            if brackets[char] != topElemet:\n",
    "                print('printbracket',brackets[char])\n",
    "                return False\n",
    "        else:\n",
    "            stack.append(char)\n",
    "    return not stack\n",
    "\n",
    "\n",
    "print(isValid(\"()\"))\n",
    "        "
   ]
  },
  {
   "cell_type": "code",
   "execution_count": 214,
   "metadata": {},
   "outputs": [
    {
     "name": "stdout",
     "output_type": "stream",
     "text": [
      "print next val 10\n",
      "20->30->50->20->40->"
     ]
    }
   ],
   "source": [
    "# revision of linked list \n",
    "\n",
    "class Node:\n",
    "    def __init__(self,data =0,next = None):\n",
    "        self.data = data\n",
    "        self.next = next \n",
    "\n",
    "class LinkedList:\n",
    "    def __init__(self):\n",
    "        self.head = None # when you are assigning for the first time assign head as None \n",
    "    def AddedNode(self,data):\n",
    "        newNode  = Node(data)\n",
    "        newNode.next = self.head #this is the address of the first node with is refring to the head\n",
    "        self.head = newNode #now head is refering to next data\n",
    "    def removingNodeFirst(self):\n",
    "        if self.head:\n",
    "            self.head = self.head.next #checking for the headNode and assign head to next to next node \n",
    "    def addingNodeAtLast(self,data):\n",
    "       newNode = Node(data)\n",
    "       if self.head == None:\n",
    "            self.head = newNode #if value is not there pointing toward head\n",
    "           \n",
    "       else:\n",
    "            current = self.head #assigning current head means if linked list is already available the point it to the address of that node \n",
    "            while current.next:\n",
    "                current = current.next\n",
    "            current.next = newNode\n",
    "    def addingNodeAtGivenPos(self,data,pos):\n",
    "        newNode = Node(data)\n",
    "        if pos == 1 :\n",
    "            newNode.next = self.head  # we will point the address of our given node to head of the linked list\n",
    "            self.head = newNode #now head refering to next data\n",
    "            return\n",
    "        current = self.head\n",
    "        prev = None #this is the pointer\n",
    "        current_pos = 1\n",
    "        while current and current_pos < pos:\n",
    "            prev = current #we are pointing this pointer to current data \n",
    "            current = current.next # we are assigning the current node to next node address, basically we are traveling in this code \n",
    "            current_pos +=1 \n",
    "        prev.next = newNode # Once you reached into your position we are going to point pointer address to you new newNode \n",
    "        newNode.next = current # Then we are going to put your new node address to to your current \n",
    "        print(\"print next val\",current.data) #thats why this value is 10 \n",
    "\n",
    "    def deleteFromAnyPosition(self,pos): #when ever need to add on certain position use pointer \n",
    "        if pos == 1:\n",
    "            self.head = self.head.next\n",
    "            return \n",
    "        current = self.head\n",
    "        current_pos = 1\n",
    "        prev = None\n",
    "        while current and current_pos < pos:\n",
    "            prev = current #using pointer to travel to certain position \n",
    "            current = current.next\n",
    "            current_pos +=1\n",
    "        if current:\n",
    "            prev.next = current.next\n",
    "        \n",
    "\n",
    "    def printLinkedList(self):\n",
    "        currentNode  = self.head\n",
    "        while currentNode:\n",
    "            print(currentNode.data, end='->')\n",
    "            currentNode = currentNode.next\n",
    "\n",
    "ObjLinkedList = LinkedList()\n",
    "ObjLinkedList.AddedNode(20)\n",
    "ObjLinkedList.AddedNode(10)\n",
    "ObjLinkedList.AddedNode(30)\n",
    "ObjLinkedList.AddedNode(20)\n",
    "ObjLinkedList.AddedNode(40)\n",
    "ObjLinkedList.removingNodeFirst()\n",
    "ObjLinkedList.addingNodeAtLast(40)\n",
    "ObjLinkedList.addingNodeAtGivenPos(50,3)\n",
    "ObjLinkedList.deleteFromAnyPosition(4)\n",
    "ObjLinkedList.printLinkedList()\n",
    "\n",
    "# 20->30->10->20->40->\n",
    "# 20->30->10->50->\n",
    "        \n",
    "        "
   ]
  },
  {
   "cell_type": "code",
   "execution_count": 280,
   "metadata": {},
   "outputs": [
    {
     "name": "stdout",
     "output_type": "stream",
     "text": [
      "False\n"
     ]
    }
   ],
   "source": [
    "#find Duplicate \n",
    "def duplicate(arr):\n",
    "    seen = set()\n",
    "    duplicate = set()\n",
    "    for num in arr:\n",
    "        if num in seen:\n",
    "            duplicate.add(num)\n",
    "        else:\n",
    "            seen.add(num)\n",
    "    val = True if duplicate else False \n",
    "    return val\n",
    "\n",
    "print(duplicate([1, 2, 3, 4,]))"
   ]
  },
  {
   "cell_type": "code",
   "execution_count": 239,
   "metadata": {},
   "outputs": [
    {
     "name": "stdout",
     "output_type": "stream",
     "text": [
      "1\n"
     ]
    }
   ],
   "source": [
    "def minimumAbsoluteDifference(arr):\n",
    "    # # Write your code here \n",
    "    # n = len(arr)\n",
    "    # minVal = float('inf')\n",
    "    # for i in range(n):\n",
    "    #     for j in range(i+1,n):\n",
    "    #         checkVal = arr[i]-arr[j]\n",
    "    #         if checkVal < 0:\n",
    "    #             checkVal = checkVal * (-1)\n",
    "    #         minVal = min(checkVal, minVal)\n",
    "    # return minVal\n",
    "    \n",
    "    # optimized approch \n",
    "    arr.sort()\n",
    "    minVal = float('inf')\n",
    "    for i in range(len(arr)):\n",
    "        changeInValue = abs(arr[i]-arr[i-1])\n",
    "        minVal = min(minVal,changeInValue)\n",
    "    return(minVal)\n",
    "\n",
    "print ( minimumAbsoluteDifference([-59, -36, -13, 1, -53, -92, -2, -96, -54,75]))\n"
   ]
  },
  {
   "cell_type": "code",
   "execution_count": 298,
   "metadata": {},
   "outputs": [
    {
     "name": "stdout",
     "output_type": "stream",
     "text": [
      "3\n"
     ]
    }
   ],
   "source": [
    "#No of children Setisfied \n",
    "\n",
    " \n",
    "def findContentChildren( g, s):\n",
    "    g.sort()\n",
    "    s.sort()\n",
    "    childPtr =0\n",
    "    CookiePtr = 0\n",
    "    result = 0\n",
    "    while childPtr < len(g) and CookiePtr < len(s):\n",
    "        if s[CookiePtr] >= g[childPtr]:\n",
    "            childPtr +=1\n",
    "            result +=1\n",
    "        CookiePtr +=1\n",
    "    return result\n",
    "\n",
    "\n",
    "  \n",
    "\n",
    "g= [1,2,2,3]\n",
    "s = [1,2,3]\n",
    "print(findContentChildren(g, s))\n",
    "\n"
   ]
  },
  {
   "cell_type": "code",
   "execution_count": 306,
   "metadata": {},
   "outputs": [
    {
     "name": "stdout",
     "output_type": "stream",
     "text": [
      "False\n"
     ]
    }
   ],
   "source": [
    "def lemonadeChange( bills):\n",
    "    val5 = 0\n",
    "    val10 = 0\n",
    "    val20 = 0\n",
    "\n",
    "    for i in range(len(bills)):\n",
    "        if bills[i] == 5:\n",
    "            val5 +=1\n",
    "        elif bills[i] == 10:\n",
    "            val10 +=1\n",
    "            if val5 > 0:\n",
    "                val5 -=1\n",
    "            else:\n",
    "                return False\n",
    "        elif bills[i] == 20:\n",
    "            val20 +=1\n",
    "            if val10 > 0 and val5 > 0:\n",
    "                val10 -=1\n",
    "                val5 -=1\n",
    "            elif val5 >= 3:\n",
    "                val5 -=3\n",
    "            else:\n",
    "                return False\n",
    "    return True\n",
    "\n",
    "                 \n",
    "bills = [5,5,10,10,20]\n",
    "print(lemonadeChange(bills))"
   ]
  },
  {
   "cell_type": "code",
   "execution_count": 309,
   "metadata": {},
   "outputs": [
    {
     "name": "stdout",
     "output_type": "stream",
     "text": [
      "[60, 100, 120]\n",
      "[10, 20, 30]\n"
     ]
    }
   ],
   "source": [
    "arr =[60,100,120,10,20,30]\n",
    "Wt = [arr[i] for i in range(len(arr)//2)]\n",
    "Vt = [arr[i] for i in range(len(arr)//2,len(arr))]\n",
    "print(Wt)\n",
    "print(Vt)"
   ]
  },
  {
   "cell_type": "code",
   "execution_count": 324,
   "metadata": {},
   "outputs": [
    {
     "name": "stdout",
     "output_type": "stream",
     "text": [
      "4\n"
     ]
    }
   ],
   "source": [
    "#Shortest Job Done:\n",
    "\n",
    "def SJD(jobs):\n",
    "    jobs.sort()\n",
    "    waitT = 0\n",
    "    TotalTime = 0\n",
    "    for i in range(len(jobs)):\n",
    "       waitT += TotalTime\n",
    "       TotalTime += jobs[i]\n",
    "    \n",
    "    \n",
    "    \n",
    "    return  waitT // len(jobs) \n",
    "\n",
    "    \n",
    "jobs = [3, 1, 4, 2, 5]\n",
    "print(SJD(jobs))"
   ]
  },
  {
   "cell_type": "code",
   "execution_count": 328,
   "metadata": {},
   "outputs": [
    {
     "name": "stdout",
     "output_type": "stream",
     "text": [
      "False\n"
     ]
    }
   ],
   "source": [
    "#Can jump \n",
    "def canJump(nums):\n",
    "    maxInd = 0 \n",
    "    for i in range(len(nums)):\n",
    "        if (i > maxInd):return False\n",
    "        maxInd = max(maxInd,i+nums[i])\n",
    "    return True\n",
    "\n",
    "print(canJump([3,2,1,0,4]))\n",
    "    "
   ]
  },
  {
   "cell_type": "code",
   "execution_count": 344,
   "metadata": {},
   "outputs": [
    {
     "name": "stdout",
     "output_type": "stream",
     "text": [
      "2\n"
     ]
    }
   ],
   "source": [
    "def jump( nums):\n",
    "        l = 0\n",
    "        r = 0\n",
    "        Jump = 0\n",
    "        while (r < len(nums)-1 ):\n",
    "            further = 0\n",
    "            for i in range(l,r+1):\n",
    "                further = max(further,i+nums[i])\n",
    "            l = r+1\n",
    "            r= further\n",
    "            Jump +=1\n",
    "        return Jump\n",
    "print(jump([2,3,1,1,4]))\n"
   ]
  },
  {
   "cell_type": "code",
   "execution_count": 335,
   "metadata": {},
   "outputs": [
    {
     "name": "stdout",
     "output_type": "stream",
     "text": [
      "j 3\n",
      "j 3\n",
      "j 1\n",
      "j 3\n",
      "j 1\n",
      "j 1\n"
     ]
    }
   ],
   "source": [
    "nums = [2,3,1,1,4] \n",
    "for i in range(len(nums)):\n",
    "    for j in range(1,nums[i]):\n",
    "        val = arr[j] + i\n",
    "        if val == nums[-1]:\n",
    "            return\n",
    "        \n"
   ]
  }
 ],
 "metadata": {
  "kernelspec": {
   "display_name": "Python 3.11.6 64-bit",
   "language": "python",
   "name": "python3"
  },
  "language_info": {
   "codemirror_mode": {
    "name": "ipython",
    "version": 3
   },
   "file_extension": ".py",
   "mimetype": "text/x-python",
   "name": "python",
   "nbconvert_exporter": "python",
   "pygments_lexer": "ipython3",
   "version": "3.11.6"
  },
  "orig_nbformat": 4,
  "vscode": {
   "interpreter": {
    "hash": "b0fa6594d8f4cbf19f97940f81e996739fb7646882a419484c72d19e05852a7e"
   }
  }
 },
 "nbformat": 4,
 "nbformat_minor": 2
}
